{
 "cells": [
  {
   "cell_type": "markdown",
   "metadata": {},
   "source": [
    "# HW2: Exploratory Data Analysis\n",
    "\n",
    "\n",
    "\n",
    "\n",
    "<span style=\"color:green\">    - Antônio Luís Sombra de Medeiros</span>  \n",
    "<span style=\"color:green\"> - João Marcos Amorim </span>  \n",
    "<span style=\"color:green\">     - Renato Aranha</span> \n",
    "\n",
    "\n",
    "\n",
    "\n",
    "Guidelines:\n",
    "\n",
    "- What question do you want to answer?\n",
    "\n",
    "    \n",
    "- The classification of Cartola FC follows the table of classification of Brasileirão?\n",
    "\n",
    "   <span style=\"color:blue\">  \n",
    "A: We rebuilt the final classification of the championship following its criteria of scoring the same and built the classification after the last of the Brasileirão by the total points made by the club in Cartola FC.  </span>\n",
    "       \n",
    "       \n",
    "- Where have you obtained the data?\n",
    "\n",
    "   <span style=\"color:blue\"> A: The scraped data from the official Cartola [website] can be found [here]:</span>\n",
    "    \n",
    "    \n",
    "- How were your data manipulation and cleaning?\n",
    "\n",
    " <span style=\"color:blue\"> A: We emphasize these aspects on the notebook body </span>\n",
    "    \n",
    "    \n",
    "- Visualize your data from multiple perspectives and indicate if you found outliers, patterns, trends.\n",
    "\n",
    "  <span style=\"color:blue\"> A: Graphs were created to help understand the variation in player's score and price per position and per year, helping to understand if there was a significant change in the years and we checked the variation of scores and price per position. </span>\n",
    "\n",
    "\n",
    "- Indicate if your visualizations help you to answer the questions or if you have a more clear idea what path you should follow to corroborate your hypothesis. \n",
    "\n",
    "\n",
    "- Give a conclusion of your analysis. \n",
    "\n",
    "\n",
    "[website]: http://globoesporte.globo.com/cartola-fc/\n",
    "[here]: https://github.com/thevtm/CartolaFCDados"
   ]
  },
  {
   "cell_type": "markdown",
   "metadata": {},
   "source": [
    "# 0. DATA\n",
    "\n",
    "* Our data can be found at: [https://github.com/thevtm/CartolaFCDados](https://github.com/thevtm/CartolaFCDados)  \n",
    "It's the record from 2014 to 2017 of Cartola Data (the fantasy game)  \n",
    "\n",
    "\n",
    "* We have information from players,teams, games and \"scouts\", which are points for what happened in each game. For example:  \n",
    " * We have data for how many goals a players did in a game, how many goals the goalkeeper of each team avoided...\n",
    "\n",
    "\n",
    "* We basically work with 6 csvs (for each year from 2014 to 2017)\n",
    "\n",
    "\n",
    "    1. Atletas.csv   (Data of each player)\n",
    "    2. Clubes.csv    (Data of each Team)\n",
    "    3. Partidas.csv  (Data of each game)\n",
    "    4. Posicoes.csv  (Table with all positions possible for a player)\n",
    "    5. Scouts.csv    (Game data and observations, points etc..)\n",
    "    6. Status.csv    (Table with all the possible status for a player - Suspenso, Contundido, etc. - )\n",
    "    \n",
    "    \n",
    "    \n",
    "    \n",
    "##### METADATA\n",
    "\n",
    "\n",
    "\n",
    "For Atletas csv:\n",
    "\n",
    "| Field   | Description |\n",
    "| ------  | -----------|\n",
    "| ID       | ID of player.|\n",
    "| Apelido  | How player is called (nickname) |\n",
    "| ClubeID  | ID of players' team |\n",
    "| PosicaoID| ID of Players' position in field (1 = goalkepper,2 = defense,..., 4 = midfielder, 5= attacker, 6 = coach) |\n",
    "| Ano      | Year the player was playing for this team and in this position |\n",
    "\n",
    "\n",
    "For Clubes csv:\n",
    "\n",
    "| Field    | Description|\n",
    "| ------   | -----------|\n",
    "| ID       | Team's ID  |\n",
    "| Nome     | Team's name|\n",
    "|Abreviacao| Team's Acronym  |\n",
    "| Slug     | Team's slug |\n",
    "\n",
    "\n",
    "For Partidas.csv:\n",
    "\n",
    "| Field        | Description                        |\n",
    "| ------       | -----------                        |\n",
    "| Ano          | Game's Year                        |\n",
    "| CasaID       | Home Team's ID                     |\n",
    "| ID           | Game's ID                          |\n",
    "| PlacarCasa   | Number of goals of home team      |\n",
    "| PlacarVisitante| Number of goals of visiting team |\n",
    "| Resultado     | Winner of game                    |\n",
    "| Rodada        | Championship's Round number (for that game) |\n",
    "| VisitanteID   | Visitor Team's ID                 |\n",
    "\n",
    "\n",
    "For Posicoes.csv:\n",
    "\n",
    "| Field    | Description|\n",
    "| ------   | -----------|\n",
    "| ID       | Position's ID  |\n",
    "| Nome     | Position's name|\n",
    "|Abreviacao| Position's Acronym  |\n",
    "\n",
    "\n",
    "For Scouts.csv: \n",
    "\n",
    "| Field       | Description|\n",
    "| ------      | -----------|\n",
    "|Rodada       | Round      |\n",
    "|ClubeID      | Team's ID  |\n",
    "|AtletaID     | Players' ID|\n",
    "|Participou   | If player played on that game or not|\n",
    "|Pontos       | Number of Cartola points for that game  |\n",
    "|PontosMedia  | Média de pontos do atleta até esta rodada (inclue rodada atual)  |\n",
    "|Preco        | Preço do atleta nesta rodada  |\n",
    "|PrecoVariacao|  Variação do preço da rodada passada para esta |\n",
    "|FS           | Faltas sofridas  |\n",
    "|PE           |Passes errados  |\n",
    "|A            | Assistências |\n",
    "|FT           | Finalizações na trave  |\n",
    "|FD           | Finalizações defendidas  |\n",
    "|FF           | Finalizações para fora  |\n",
    "|G            | Gols  |\n",
    "|I            | Impedimentos  |\n",
    "|PP           | Penaltis perdidos  |\n",
    "|RB           | Roubadas de bola  |\n",
    "|FC           | Faltas cometidas  |\n",
    "|GC           | Gols contras  |\n",
    "|CA           | Cartões Amarelos  |\n",
    "|CV           | Cartões Vermelhos  |\n",
    "|SG           | Jogo sem sofrer gols |\n",
    "|DD           | Defesas dificeis  |\n",
    "|DP           | Defesa de penaltis |\n",
    "|GS           | Gols sofridos  |\n",
    "|Ano          | Year  |\n",
    "- **Rodada**: Rodada em que o scout ocorreu\n",
    "- **ClubeID**: ID do clube do atleta\n",
    "- **AtletaID**: ID do atleta\n",
    "- **Participou**: `TRUE` se o atleta participou do jogo, `FALSE` se ficou no banco\n",
    "- **Pontos**: Pontuação do atleta nesta rodada\n",
    "- **PontosMedia**: Média de pontos do atleta até está rodada (inclue rodada atual)\n",
    "- **Preco**: Preço do atleta nesta rodada\n",
    "- **PrecoVariacao**: Variação do preço da rodada passada para está\n",
    "- **FS**: Faltas sofridas\n",
    "- **PE**: Passes errados\n",
    "- **A**: Assistências\n",
    "- **FT**: Finalizações na trave\n",
    "- **FD**: Finalizações defendidas\n",
    "- **FF**: Finalizações para fora\n",
    "- **G**: Gols\n",
    "- **I**: Impedimentos\n",
    "- **PP**: Penaltis perdidos\n",
    "- **RB**: Roubadas de bola\n",
    "- **FC**: Faltas cometidas\n",
    "- **GC**: Gols contras\n",
    "- **CA**: Cartões Amarelos\n",
    "- **CV**: Cartões Vermelhos\n",
    "- **SG**: Jogo sem sofrer gols\n",
    "- **DD**: Defesas dificeis\n",
    "- **DP**: Defesa de penaltis\n",
    "- **GS**: Gols sofridos\n",
    "\n",
    "\n",
    "\n",
    "For Status.csv:\n",
    "\n",
    "\n",
    "| Field    | Description|\n",
    "| ------   | -----------|\n",
    "| ID       | Status's ID  |\n",
    "| Nome     | Status's name|\n",
    "\n"
   ]
  },
  {
   "cell_type": "markdown",
   "metadata": {},
   "source": [
    "# 1. LOADING DATA"
   ]
  },
  {
   "cell_type": "code",
   "execution_count": null,
   "metadata": {},
   "outputs": [],
   "source": [
    "import pandas as pd\n",
    "import numpy as np\n",
    "import os\n",
    "import seaborn as sns\n",
    "sns.set(color_codes=True)\n",
    "\n",
    "\n",
    "import matplotlib.pyplot as plt\n",
    "%matplotlib inline\n",
    "\n",
    "import warnings\n",
    "warnings.filterwarnings('ignore')"
   ]
  },
  {
   "cell_type": "code",
   "execution_count": null,
   "metadata": {},
   "outputs": [],
   "source": [
    "cwd = os.getcwd()\n",
    "cwd"
   ]
  },
  {
   "cell_type": "markdown",
   "metadata": {},
   "source": [
    "### MERGING DATA FOR ALL YEARS (2014-2017)"
   ]
  },
  {
   "cell_type": "code",
   "execution_count": null,
   "metadata": {},
   "outputs": [],
   "source": [
    "atletas_all_years = pd.DataFrame()\n",
    "clubes_all_years = pd.DataFrame()\n",
    "partidas_all_years = pd.DataFrame()\n",
    "posicoes_all_years = pd.DataFrame()\n",
    "scouts_all_years = pd.DataFrame()\n",
    "status_all_years = pd.DataFrame()\n",
    "\n",
    "\n",
    "for i in range(2014, 2018):\n",
    "    \n",
    "    path_atl = os.path.join(cwd, str(i)+\"/Atletas.csv\")    \n",
    "    path_club = os.path.join(cwd, str(i)+\"/Clubes.csv\")    \n",
    "    path_part = os.path.join(cwd, str(i)+\"/Partidas.csv\")    \n",
    "    path_pos = os.path.join(cwd, str(i)+\"/Posicoes.csv\")   \n",
    "    path_sct = os.path.join(cwd, str(i)+\"/Scouts.csv\")    \n",
    "    path_stts = os.path.join(cwd, str(i)+\"/Status.csv\")\n",
    "    \n",
    "    atletas = pd.read_csv(path_atl)\n",
    "    atletas['Ano'] = i\n",
    "    clubes = pd.read_csv(path_club)\n",
    "    #clubes['Ano'] = i\n",
    "    partidas = pd.read_csv(path_part)\n",
    "    partidas['Ano'] = i\n",
    "    posicoes = pd.read_csv(path_pos)\n",
    "    #posicoes['Ano'] = i\n",
    "    scouts = pd.read_csv(path_sct)\n",
    "    scouts['Ano'] = i\n",
    "    status = pd.read_csv(path_stts)\n",
    "    #status['Ano'] = i\n",
    "    \n",
    "    atletas_all_years = atletas_all_years.append(atletas)\n",
    "    clubes_all_years = clubes_all_years.append(clubes).drop_duplicates()\n",
    "    partidas_all_years = partidas_all_years.append(partidas)\n",
    "    posicoes_all_years = posicoes_all_years.append(posicoes).drop_duplicates()\n",
    "    scouts_all_years = scouts_all_years.append(scouts)\n",
    "    status_all_years = status_all_years.append(status).drop_duplicates()"
   ]
  },
  {
   "cell_type": "markdown",
   "metadata": {},
   "source": [
    "### View merged tables with all years"
   ]
  },
  {
   "cell_type": "code",
   "execution_count": null,
   "metadata": {},
   "outputs": [],
   "source": [
    "partidas_all_years.head()"
   ]
  },
  {
   "cell_type": "code",
   "execution_count": null,
   "metadata": {},
   "outputs": [],
   "source": [
    "clubes_all_years.head()"
   ]
  },
  {
   "cell_type": "markdown",
   "metadata": {},
   "source": [
    "# 2. DATA CLEANING AND MANIPULATION"
   ]
  },
  {
   "cell_type": "markdown",
   "metadata": {},
   "source": [
    "In this stage we create functions to generate consolidated dataframes with games and teams. \n",
    "We noticed that we have duplicated observations for Sport Club (SPO, which is also SPT) and so we removed these data from our dataframe.\n",
    "Also we generate a classification table, adding the points for each victory (3 points), tie (1 point) and loss(0 points) to each teams' scores."
   ]
  },
  {
   "cell_type": "code",
   "execution_count": null,
   "metadata": {
    "scrolled": true
   },
   "outputs": [],
   "source": [
    "def gera_partidas_com_clubes(partidas_all_years, clubes_all_years):\n",
    "    partidas_all_years = partidas_all_years.merge(clubes_all_years[['ID','Abreviacao']], how='inner', left_on='CasaID',\\\n",
    "                         right_on='ID')\n",
    "    partidas_all_years = partidas_all_years.merge(clubes_all_years[['ID','Abreviacao']], how='inner', left_on='VisitanteID',\\\n",
    "                         right_on='ID')\n",
    "    partidas_all_years = partidas_all_years.drop(labels=['ID_y','ID'], axis = 1)\n",
    "    partidas_com_clubes = partidas_all_years.rename(columns={'ID_x':'ID_partida','Abreviacao_x':'abrev_clube_casa','Abreviacao_y':'abrev_clube_fora'})\n",
    "    return partidas_com_clubes\n",
    "\n",
    "def remove_erros_SPO(partidas_com_clubes):\n",
    "    a = partidas_com_clubes.copy().drop_duplicates()\n",
    "    temp = pd.DataFrame(a.groupby(['ID_partida'])['ID_partida'].count())\n",
    "    temp2 = temp[temp.ID_partida == 2]\n",
    "    \n",
    "    a = a[(a.ID_partida.isin(temp2.index))]\n",
    "    a = a[(a.abrev_clube_casa == 'SPO') | (a.abrev_clube_fora == 'SPO')]\n",
    "    \n",
    "    final = partidas_com_clubes[~partidas_com_clubes.index.isin(a.index)]\n",
    "    partidas_com_clubes_corrigido = final.drop_duplicates()\n",
    "    \n",
    "    return partidas_com_clubes_corrigido\n",
    "\n",
    "def adiciona_pontuacao(partidas_com_clubes_corrigido):\n",
    "    def pts_casa(casa, fora):\n",
    "        if casa > fora:\n",
    "            a = 3\n",
    "        elif casa < fora:\n",
    "            a = 0\n",
    "        else:\n",
    "            a = 1\n",
    "        return a\n",
    "\n",
    "    def pts_fora(casa, fora):\n",
    "        if casa > fora:\n",
    "            a = 0\n",
    "        elif casa < fora:\n",
    "            a = 3\n",
    "        else:\n",
    "            a = 1\n",
    "        return a\n",
    "    \n",
    "    a = partidas_com_clubes_corrigido.copy().drop_duplicates().reset_index()\n",
    "    a['pts_casa'] = a.apply(lambda x: pts_casa(x.PlacarCasa, x.PlacarVisitante), axis=1)\n",
    "    a['pts_fora'] = a.apply(lambda x: pts_fora(x.PlacarCasa, x.PlacarVisitante), axis=1)\n",
    "    \n",
    "    partidas_com_pontuacao = a\n",
    "    \n",
    "    return partidas_com_pontuacao\n",
    "\n",
    "def gera_classificacao(partidas_com_pontuacao):\n",
    "    b = partidas_com_pontuacao.copy()\n",
    "    casa = pd.DataFrame(b.groupby(['Ano','abrev_clube_casa'])['pts_casa'].sum())\n",
    "    fora = pd.DataFrame(b.groupby(['Ano','abrev_clube_fora'])['pts_fora'].sum())\n",
    "    tabela = pd.concat([casa, fora], axis=1)\n",
    "    tabela['pts_total'] = tabela.pts_casa + tabela.pts_fora\n",
    "    tabela = tabela.reset_index().sort_values(by=['Ano','pts_total'], ascending = [True, False])\n",
    "    return tabela"
   ]
  },
  {
   "cell_type": "code",
   "execution_count": null,
   "metadata": {
    "scrolled": true
   },
   "outputs": [],
   "source": [
    "partidas_com_clubes = gera_partidas_com_clubes(partidas_all_years, clubes_all_years).drop_duplicates()\n",
    "\n",
    "partidas_com_clubes_corrigido = remove_erros_SPO(partidas_com_clubes)\n",
    "\n",
    "partidas_com_pontuacao = adiciona_pontuacao(partidas_com_clubes_corrigido)\n",
    "\n",
    "tabela = gera_classificacao(partidas_com_pontuacao)\n",
    "\n",
    "tabela"
   ]
  },
  {
   "cell_type": "markdown",
   "metadata": {},
   "source": [
    "This tables represents the final scores/classification for each years' championship"
   ]
  },
  {
   "cell_type": "code",
   "execution_count": null,
   "metadata": {
    "scrolled": true
   },
   "outputs": [],
   "source": [
    "#Games(Matches) tables without duplicated values\n",
    "\n",
    "partidas_com_clubes_corrigido"
   ]
  },
  {
   "cell_type": "code",
   "execution_count": null,
   "metadata": {},
   "outputs": [],
   "source": [
    "partidas_com_clubes_corrigido.to_csv('partidas_all_years.csv', sep='\\t')"
   ]
  },
  {
   "cell_type": "code",
   "execution_count": null,
   "metadata": {},
   "outputs": [],
   "source": [
    "atletas_all_years = atletas_all_years.drop_duplicates(['ID','Ano']) "
   ]
  },
  {
   "cell_type": "code",
   "execution_count": null,
   "metadata": {},
   "outputs": [],
   "source": [
    "scouts_all_years.shape"
   ]
  },
  {
   "cell_type": "code",
   "execution_count": null,
   "metadata": {},
   "outputs": [],
   "source": [
    "clubes_all_years[['ID','Nome']].drop_duplicates().sort_values(by='ID')"
   ]
  },
  {
   "cell_type": "markdown",
   "metadata": {},
   "source": [
    "### Adding player name, team and position"
   ]
  },
  {
   "cell_type": "code",
   "execution_count": null,
   "metadata": {},
   "outputs": [],
   "source": [
    "scouts_all_years = scouts_all_years.merge(atletas_all_years[['ID','Apelido','PosicaoID','Ano']], left_on=['AtletaID','Ano'],\\\n",
    "                         right_on=['ID','Ano'],how = 'inner')\n",
    "print(scouts_all_years.shape)\n",
    "scouts_all_years = scouts_all_years.drop_duplicates()\n",
    "print(scouts_all_years.shape)\n",
    "scouts_all_years = scouts_all_years.merge(posicoes_all_years[['ID','Abreviacao']], left_on = 'PosicaoID',right_on = 'ID')\n",
    "print(scouts_all_years.shape)\n",
    "scouts_all_years = scouts_all_years.drop(labels=['ID_y','ID_x'], axis = 1)\n",
    "print(scouts_all_years.shape)\n",
    "scouts_all_years = scouts_all_years.merge(clubes_all_years[['ID','Nome']].drop_duplicates().sort_values(by='ID').iloc[1:,:]\n",
    "                                          ,left_on='ClubeID',right_on='ID')\n",
    "print(scouts_all_years.shape)\n",
    "\n"
   ]
  },
  {
   "cell_type": "code",
   "execution_count": null,
   "metadata": {},
   "outputs": [],
   "source": [
    "scouts_all_years.columns"
   ]
  },
  {
   "cell_type": "markdown",
   "metadata": {},
   "source": [
    "### Droping players that din't player the match"
   ]
  },
  {
   "cell_type": "code",
   "execution_count": null,
   "metadata": {},
   "outputs": [],
   "source": [
    "print('Tamanho antes de deixar apenas quem jogou')\n",
    "print(scouts_all_years.shape)\n",
    "jogaram_all_years = scouts_all_years[scouts_all_years.Participou==True]\n",
    "print('Tamanho depois de deixar apenas quem jogou')\n",
    "print(jogaram_all_years.shape)"
   ]
  },
  {
   "cell_type": "code",
   "execution_count": null,
   "metadata": {},
   "outputs": [],
   "source": [
    "# libraries\n",
    "import pandas as pd\n",
    "import matplotlib.pyplot as plt\n",
    "\n",
    "# Create a dataframe\n",
    "value1=np.random.uniform(size=20)\n",
    "value2=value1+np.random.uniform(size=20)/4\n",
    "#df = pd.DataFrame({'group':list(map(chr, range(65, 85))), 'value1':value1 , 'value2':value2 })\n",
    "df = pd.DataFrame({'group':list(map(chr, range(65, 85))), 'rank':export['rank'] , 'rank_cartola':export['rank_cartola'] })\n",
    "\n",
    "# Reorder it following the values of the first value:\n",
    "ordered_df = df.sort_values(by='rank', ascending = False)\n",
    "my_range=range(1,len(df.index)+1)\n",
    " \n",
    "# The vertical plot is made using the hline function\n",
    "# I load the saeaborn library only to benefit the nice looking feature\n",
    "import seaborn as sns\n",
    "fig_size[0], fig_size[1] = 10, 9\n",
    "\n",
    "labels = tabela_unificada.Abreviacao[tabela_unificada['Ano'] == 2014]\n",
    "\n",
    "'''for label, x, y in zip(labels, export['rank'], export['rank_cartola']):\n",
    "    plt.annotate(\n",
    "        label,\n",
    "        xy=(x, y), \n",
    "        xytext=(-20, 20),\n",
    "        textcoords='offset points', ha='left', va='top',\n",
    "        bbox=dict(boxstyle='round,pad=0.5', fc='yellow', alpha=0.2),\n",
    "        arrowprops=dict(arrowstyle = '->', connectionstyle='arc3,rad=0'))'''\n",
    "    \n",
    "plt.vlines(x=my_range, ymin=ordered_df['rank'], ymax=ordered_df['rank_cartola'], color='grey', alpha=0.8)\n",
    "plt.scatter( my_range, ordered_df['rank'], color='blue', alpha=1, label='Real rank')\n",
    "plt.scatter( my_range, ordered_df['rank_cartola'], color='red', alpha=0.4 , label='Cartola rank')\n",
    "plt.rcParams[\"figure.figsize\"] = fig_size\n",
    "plt.legend(loc=2, fontsize = 15)\n",
    " \n",
    "# Add title and axis names\n",
    "plt.yticks(my_range, ordered_df['rank'])\n",
    "#plt.xticks(my_range, ordered_df['rank'])\n",
    "plt.title(\"Comparison of real rank and cartola rank - 2014\", loc='center', fontsize = 15)\n",
    "plt.ylabel('Classification', fontsize = 15)\n",
    "#plt.xlabel('Group')"
   ]
  },
  {
   "cell_type": "markdown",
   "metadata": {},
   "source": [
    "# Linear Regression price and points by positions"
   ]
  },
  {
   "cell_type": "markdown",
   "metadata": {},
   "source": [
    "Can we find some linear relationship between players performance and their prices?\n",
    "\n",
    "The conclusion would be the same if we analize this relationship by player position?\n",
    "\n",
    "The plots below show the scores of players in each round by their prices, and even by eyesight, we can judge that there is no clear pattern.\n",
    "\n",
    "PS.1: The players prices changes in every round, based on their previous round performance.  \n",
    "PS.2: We are using data from the championships of all years (2014 to 2016) and there is no inflation."
   ]
  },
  {
   "cell_type": "code",
   "execution_count": null,
   "metadata": {},
   "outputs": [],
   "source": [
    "#fig, ax = plt.subplots()\n",
    "#fig.set_size_inches(16,10)\n",
    "plt.figure(figsize=(24,4))\n",
    "vis = sns.lmplot(x=\"Preco\", y=\"Pontos\", data=jogaram_all_years.sample(10000),col='Abreviacao',legend=True,fit_reg=True,\\\n",
    "                 col_wrap=2, size=4,aspect=0.9)\n",
    "#vis.axes.set_title('Scatter plot of points by price',fontsize=20)\n",
    "#vis.tick_params(labelsize=15)\n",
    "vis.set(xlabel='Price (Cartoletas)', ylabel='Points')\n",
    "plt.show()"
   ]
  },
  {
   "cell_type": "markdown",
   "metadata": {},
   "source": [
    "### Are there any differences in the score distribution of players, by position?\n",
    "\n",
    "we can see that the medians of the positions GOL, LAT and ZAG are higher that other positions. \n",
    "As can be observed, the coaches have the lowest dispersion in the data, but they are far from reaching a score higher than 10 points. Goalkeepers are the players with the most scattered score, without a punctuation tendency"
   ]
  },
  {
   "cell_type": "code",
   "execution_count": null,
   "metadata": {},
   "outputs": [],
   "source": [
    "fig, ax = plt.subplots()\n",
    "fig.set_size_inches(10,6)\n",
    "position = ['TEC', 'GOL', 'LAT', 'ZAG', 'MEI', 'ATA']\n",
    "vis = sns.violinplot(data = jogaram_all_years, x='Abreviacao', y=\"Pontos\", palette=\"GnBu_d\",\\\n",
    "                    order=position)\n",
    "vis.set(yticks=np.arange(-20,40,10))\n",
    "vis.axes.set_title('Violin plot of Players points by positions', fontsize=20)\n",
    "vis.tick_params(labelsize=15)\n",
    "plt.show()"
   ]
  },
  {
   "cell_type": "code",
   "execution_count": null,
   "metadata": {},
   "outputs": [],
   "source": [
    "jogaram_all_years.loc[:,['Abreviacao','Pontos']].groupby('Abreviacao').describe()"
   ]
  },
  {
   "cell_type": "markdown",
   "metadata": {},
   "source": [
    "#### Are there any differences in the price distribution of players, by position?\n",
    "\n",
    "\n",
    "We can see that similar to the score the coach price is what less varies compared to other positions, and the position of goalkeeper in addition to more dispersed is the most expensive of the game"
   ]
  },
  {
   "cell_type": "code",
   "execution_count": null,
   "metadata": {},
   "outputs": [],
   "source": [
    "fig, ax = plt.subplots()\n",
    "fig.set_size_inches(16,10)\n",
    "position = ['TEC', 'GOL', 'LAT', 'ZAG', 'MEI', 'ATA']\n",
    "vis = sns.violinplot(data = jogaram_all_years, x='Abreviacao', y=\"Preco\", palette=\"GnBu_d\",\\\n",
    "                    order=position)\n",
    "vis.set(yticks=np.arange(0,40,10))\n",
    "vis.axes.set_title('Violin plot of players price by positions', fontsize=20)\n",
    "vis.tick_params(labelsize=15)\n",
    "plt.show()"
   ]
  },
  {
   "cell_type": "code",
   "execution_count": null,
   "metadata": {},
   "outputs": [],
   "source": [
    "jogaram_all_years.loc[:,['Abreviacao','Preco']].groupby('Abreviacao').describe()"
   ]
  },
  {
   "cell_type": "markdown",
   "metadata": {},
   "source": [
    "### Are there any differences in the variation of price distribution of players, by position?\n",
    "\n",
    "As we can see the coaches are the ones who have the lowest price variation from one round to another compared to the other positions."
   ]
  },
  {
   "cell_type": "code",
   "execution_count": null,
   "metadata": {
    "scrolled": true
   },
   "outputs": [],
   "source": [
    "fig, ax = plt.subplots()\n",
    "fig.set_size_inches(16,10)\n",
    "vis = sns.violinplot(data = jogaram_all_years, x='Abreviacao', y=\"PrecoVariacao\", palette=\"GnBu_d\")\n",
    "vis.set(yticks=np.arange(-20,30,10))\n",
    "vis.axes.set_title('Violin plot of player price variation by positions',fontsize=20)\n",
    "vis.tick_params(labelsize=15)\n",
    "plt.show()\n",
    "\n"
   ]
  },
  {
   "cell_type": "code",
   "execution_count": null,
   "metadata": {},
   "outputs": [],
   "source": [
    "jogaram_all_years.loc[:,['Abreviacao','PrecoVariacao']].groupby('Abreviacao').describe()"
   ]
  },
  {
   "cell_type": "code",
   "execution_count": null,
   "metadata": {},
   "outputs": [],
   "source": [
    "jogaram_all_years.head()"
   ]
  },
  {
   "cell_type": "markdown",
   "metadata": {},
   "source": [
    "### filtering the 4 best and 4 worst teams of each year"
   ]
  },
  {
   "cell_type": "code",
   "execution_count": null,
   "metadata": {},
   "outputs": [],
   "source": [
    "l2014 = ['Cruzeiro','São Paulo','Internacional','Corinthians','Vitória','Bahia','Botafogo','Criciúma']\n",
    "l2015 = ['Corinthians','Atlético-MG','Grêmio','São Paulo','Avaí','Vasco','Goiás','Joinville']\n",
    "l2016 = ['Palmeiras','Santos','Flamengo','Atlético-MG','Internacional','Figueirense','Santa Cruz','América-MG']\n",
    "l2017 = ['Corinthians','Palmeiras','Santos','Grêmio','Coritiba','Avaí','Ponte Preta','Atlético-GO']"
   ]
  },
  {
   "cell_type": "code",
   "execution_count": null,
   "metadata": {},
   "outputs": [],
   "source": [
    "aux = jogaram_all_years[(jogaram_all_years.Ano ==2014) & jogaram_all_years.Nome.isin(l2014) ]"
   ]
  },
  {
   "cell_type": "markdown",
   "metadata": {},
   "source": [
    "### Is there any price difference between the top 4 and 4 worst teams?\n",
    "we can see that the players of the team with the best performance in the league had a higher price in the game during the year."
   ]
  },
  {
   "cell_type": "code",
   "execution_count": null,
   "metadata": {
    "scrolled": true
   },
   "outputs": [],
   "source": [
    "fig, ax = plt.subplots()\n",
    "fig.set_size_inches(16,10)\n",
    "vis = sns.violinplot(data = aux, x='Nome', y=\"Preco\", palette=\"GnBu_d\",order=l2014)\n",
    "vis.set(yticks=np.arange(0,40,10))\n",
    "vis.axes.set_title('Violin plot of players price of the 4 best and 4 worst teams in 2014',fontsize=20)\n",
    "vis.tick_params(labelsize=15)\n",
    "vis.set_xlabel('Teams')\n",
    "plt.show()"
   ]
  },
  {
   "cell_type": "code",
   "execution_count": null,
   "metadata": {},
   "outputs": [],
   "source": [
    "aux[['Nome','Preco']].groupby('Nome').describe()"
   ]
  },
  {
   "cell_type": "markdown",
   "metadata": {},
   "source": [
    "### Is there any difference in score between the top 4 and 4 worst teams?\n",
    "We can see that the top 4 teams have the median higher than the 4 worst teams and the third quartile of the relegationed teams have been far from the third quartile of the top 4 teams."
   ]
  },
  {
   "cell_type": "code",
   "execution_count": null,
   "metadata": {
    "scrolled": false
   },
   "outputs": [],
   "source": [
    "fig, ax = plt.subplots()\n",
    "fig.set_size_inches(16,10)\n",
    "vis = sns.violinplot(data = aux, x='Nome', y=\"Pontos\", palette=\"GnBu_d\",order=l2014)\n",
    "vis.set(yticks=np.arange(0,40,10))\n",
    "vis.axes.set_title('Violin plot of players pontos of the 4 best and 4 worst teams in 2014',fontsize=20)\n",
    "vis.tick_params(labelsize=15)\n",
    "vis.set_xlabel('Teams')\n",
    "plt.show()"
   ]
  },
  {
   "cell_type": "code",
   "execution_count": null,
   "metadata": {},
   "outputs": [],
   "source": [
    "aux[['Nome','Pontos']].groupby('Nome').describe()"
   ]
  },
  {
   "cell_type": "code",
   "execution_count": null,
   "metadata": {},
   "outputs": [],
   "source": [
    "aux = jogaram_all_years[(jogaram_all_years.Ano ==2015) & jogaram_all_years.Nome.isin(l2015) ]"
   ]
  },
  {
   "cell_type": "markdown",
   "metadata": {},
   "source": [
    "### Is there any price difference between the top 4 and 4 worst teams?\n",
    "we can see that the players of the team with the best performance in the league had a higher price in the game during the year."
   ]
  },
  {
   "cell_type": "code",
   "execution_count": null,
   "metadata": {},
   "outputs": [],
   "source": [
    "fig, ax = plt.subplots()\n",
    "fig.set_size_inches(16,10)\n",
    "vis = sns.violinplot(data = aux, x='Nome', y=\"Preco\", palette=\"GnBu_d\",order=l2015)\n",
    "vis.set(yticks=np.arange(0,40,10))\n",
    "vis.axes.set_title('Violin plot of players price of the 4 best and 4 worst teams in 2015',fontsize=20)\n",
    "vis.tick_params(labelsize=15)\n",
    "vis.set_xlabel('Teams')\n",
    "plt.show()"
   ]
  },
  {
   "cell_type": "code",
   "execution_count": null,
   "metadata": {
    "scrolled": true
   },
   "outputs": [],
   "source": [
    "aux[['Nome','Preco']].groupby('Nome').describe()"
   ]
  },
  {
   "cell_type": "markdown",
   "metadata": {},
   "source": [
    "# 2015"
   ]
  },
  {
   "cell_type": "markdown",
   "metadata": {},
   "source": [
    "### Is there any difference in score between the top 4 and 4 worst teams?\n",
    "We can see that the top 4 teams have the median higher than the 4 worst teams and the third quartile of the relegationed teams have been far from the third quartile of the top 4 teams.with Goiás performing similarly to the team."
   ]
  },
  {
   "cell_type": "code",
   "execution_count": null,
   "metadata": {
    "scrolled": false
   },
   "outputs": [],
   "source": [
    "fig, ax = plt.subplots()\n",
    "fig.set_size_inches(16,10)\n",
    "vis = sns.violinplot(data = aux, x='Nome', y=\"Pontos\", palette=\"GnBu_d\",order=l2015)\n",
    "vis.set(yticks=np.arange(0,40,10))\n",
    "vis.axes.set_title('Violin plot of players pontos of the 4 best and 4 worst teams in 2015',fontsize=20)\n",
    "vis.tick_params(labelsize=15)\n",
    "vis.set_xlabel('Teams')\n",
    "plt.show()"
   ]
  },
  {
   "cell_type": "code",
   "execution_count": null,
   "metadata": {
    "scrolled": false
   },
   "outputs": [],
   "source": [
    "aux[['Nome','Pontos']].groupby('Nome').describe()"
   ]
  },
  {
   "cell_type": "markdown",
   "metadata": {},
   "source": [
    "# 2016"
   ]
  },
  {
   "cell_type": "code",
   "execution_count": null,
   "metadata": {},
   "outputs": [],
   "source": [
    "aux = jogaram_all_years[(jogaram_all_years.Ano ==2016) & jogaram_all_years.Nome.isin(l2016) ]"
   ]
  },
  {
   "cell_type": "markdown",
   "metadata": {},
   "source": [
    "### Is there any price difference between the top 4 and 4 worst teams?\n",
    "we can see that the players of the team with the best performance in the league had a higher price in the game during the year.\n",
    "With the Santa Cruz having a player like outlier, that was the Graffiti."
   ]
  },
  {
   "cell_type": "code",
   "execution_count": null,
   "metadata": {},
   "outputs": [],
   "source": [
    "fig, ax = plt.subplots()\n",
    "fig.set_size_inches(16,10)\n",
    "vis = sns.violinplot(data = aux, x='Nome', y=\"Preco\", palette=\"GnBu_d\",order=l2016)\n",
    "vis.set(yticks=np.arange(0,40,10))\n",
    "vis.axes.set_title('Violin plot of players price of the 4 best and 4 worst teams in 2016',fontsize=20)\n",
    "vis.tick_params(labelsize=15)\n",
    "vis.set_xlabel('Teams')\n",
    "plt.show()"
   ]
  },
  {
   "cell_type": "code",
   "execution_count": null,
   "metadata": {
    "scrolled": true
   },
   "outputs": [],
   "source": [
    "aux[['Nome','Preco']].groupby('Nome').describe()"
   ]
  },
  {
   "cell_type": "markdown",
   "metadata": {},
   "source": [
    "### Is there any difference in score between the top 4 and 4 worst teams?\n",
    "We can see that the top 4 teams have the median higher than the 4 worst teams and the third quartile of the relegationed teams have been far from the third quartile of the top 4 teams."
   ]
  },
  {
   "cell_type": "code",
   "execution_count": null,
   "metadata": {
    "scrolled": false
   },
   "outputs": [],
   "source": [
    "fig, ax = plt.subplots()\n",
    "fig.set_size_inches(16,10)\n",
    "vis = sns.violinplot(data = aux, x='Nome', y=\"Pontos\", palette=\"GnBu_d\",order=l2016)\n",
    "vis.set(yticks=np.arange(0,40,10))\n",
    "vis.axes.set_title('Violin plot of players pontos of the 4 best and 4 worst teams in 2016',fontsize=20)\n",
    "vis.tick_params(labelsize=15)\n",
    "vis.set_xlabel('Teams')\n",
    "plt.show()"
   ]
  },
  {
   "cell_type": "code",
   "execution_count": null,
   "metadata": {
    "scrolled": true
   },
   "outputs": [],
   "source": [
    "aux[['Nome','Pontos']].groupby('Nome').describe()"
   ]
  },
  {
   "cell_type": "markdown",
   "metadata": {},
   "source": [
    "# 2017"
   ]
  },
  {
   "cell_type": "code",
   "execution_count": null,
   "metadata": {},
   "outputs": [],
   "source": [
    "aux = jogaram_all_years[(jogaram_all_years.Ano ==2017) & jogaram_all_years.Nome.isin(l2017) ]"
   ]
  },
  {
   "cell_type": "markdown",
   "metadata": {},
   "source": [
    "### Is there any price difference between the top 4 and 4 worst teams?\n",
    "# ARANHA ANALISA ESTE AQUI"
   ]
  },
  {
   "cell_type": "code",
   "execution_count": null,
   "metadata": {},
   "outputs": [],
   "source": [
    "fig, ax = plt.subplots()\n",
    "fig.set_size_inches(16,10)\n",
    "vis = sns.violinplot(data = aux, x='Nome', y=\"Preco\", palette=\"GnBu_d\",order=l2017)\n",
    "vis.set(yticks=np.arange(0,40,10))\n",
    "vis.axes.set_title('Violin plot of players price of the 4 best and 4 worst teams in 2017',fontsize=20)\n",
    "vis.tick_params(labelsize=15)\n",
    "vis.set_xlabel('Teams')\n",
    "plt.show()"
   ]
  },
  {
   "cell_type": "code",
   "execution_count": null,
   "metadata": {
    "scrolled": true
   },
   "outputs": [],
   "source": [
    "aux[['Nome','Preco']].groupby('Nome').describe()"
   ]
  },
  {
   "cell_type": "markdown",
   "metadata": {},
   "source": [
    "### Is there any difference in score between the top 4 and 4 worst teams?\n",
    "We can see that the top 4 teams have the median higher than the 4 worst teams and the third quartile of the relegationed teams have been far from the third quartile of the top 4 teams."
   ]
  },
  {
   "cell_type": "code",
   "execution_count": null,
   "metadata": {
    "scrolled": false
   },
   "outputs": [],
   "source": [
    "fig, ax = plt.subplots()\n",
    "fig.set_size_inches(16,10)\n",
    "vis = sns.violinplot(data = aux, x='Nome', y=\"Pontos\", palette=\"GnBu_d\",order=l2017)\n",
    "vis.set(yticks=np.arange(0,40,10))\n",
    "vis.axes.set_title('Violin plot of players pontos of the 4 best and 4 worst teams in 2017',fontsize=20)\n",
    "vis.tick_params(labelsize=15)\n",
    "vis.set_xlabel('Teams')\n",
    "plt.show()"
   ]
  },
  {
   "cell_type": "code",
   "execution_count": null,
   "metadata": {
    "scrolled": true
   },
   "outputs": [],
   "source": [
    "aux[['Nome','Pontos']].groupby('Nome').describe()"
   ]
  },
  {
   "cell_type": "code",
   "execution_count": null,
   "metadata": {},
   "outputs": [],
   "source": []
  },
  {
   "cell_type": "markdown",
   "metadata": {},
   "source": [
    "### Are there any differences in the price distribution of players, by years?\n",
    "\n",
    "As we can see there is no difference in the distribution of players' price over the years."
   ]
  },
  {
   "cell_type": "code",
   "execution_count": null,
   "metadata": {},
   "outputs": [],
   "source": [
    "fig, ax = plt.subplots()\n",
    "fig.set_size_inches(16,10)\n",
    "vis = sns.violinplot(data = jogaram_all_years, x='Ano', y=\"Preco\", palette=\"GnBu_d\")\n",
    "vis.set(yticks=np.arange(0,40,10))\n",
    "vis.axes.set_title('Violin plot of players price by years',fontsize=20)\n",
    "vis.tick_params(labelsize=15)\n",
    "plt.show()\n"
   ]
  },
  {
   "cell_type": "code",
   "execution_count": null,
   "metadata": {},
   "outputs": [],
   "source": [
    "jogaram_all_years.loc[:,['Ano','Preco']].groupby('Ano').describe()"
   ]
  },
  {
   "cell_type": "markdown",
   "metadata": {},
   "source": [
    "### Are there any differences in the points distribution of players, by years?\n",
    "\n",
    "As we can see there is no difference in the distribution of players' scores over the years."
   ]
  },
  {
   "cell_type": "code",
   "execution_count": null,
   "metadata": {},
   "outputs": [],
   "source": [
    "fig, ax = plt.subplots()\n",
    "fig.set_size_inches(16,10)\n",
    "vis = sns.violinplot(data = jogaram_all_years, x='Ano', y=\"Pontos\", palette=\"GnBu_d\")\n",
    "vis.set(yticks=np.arange(-20,40,10))\n",
    "vis.axes.set_title('Violin plot of players points by years',fontsize=20)\n",
    "vis.tick_params(labelsize=15)\n",
    "plt.show()"
   ]
  },
  {
   "cell_type": "code",
   "execution_count": null,
   "metadata": {},
   "outputs": [],
   "source": [
    "jogaram_all_years.loc[:,['Ano','Pontos']].groupby('Ano').describe()"
   ]
  },
  {
   "cell_type": "markdown",
   "metadata": {},
   "source": [
    "### Are there any differences in the variation of price distribution of players, by years?\n",
    "\n",
    "\n",
    "We can see that there is no difference between the years"
   ]
  },
  {
   "cell_type": "code",
   "execution_count": null,
   "metadata": {},
   "outputs": [],
   "source": [
    "fig, ax = plt.subplots()\n",
    "fig.set_size_inches(16,10)\n",
    "vis = sns.violinplot(data = jogaram_all_years, x='Ano', y=\"PrecoVariacao\", palette=\"GnBu_d\")\n",
    "vis.set(yticks=np.arange(-20,30,10))\n",
    "vis.axes.set_title('Violin plot of player variation price by years',fontsize=20)\n",
    "vis.tick_params(labelsize=15)\n",
    "plt.show()"
   ]
  },
  {
   "cell_type": "code",
   "execution_count": null,
   "metadata": {},
   "outputs": [],
   "source": [
    "jogaram_all_years.groupby(['ClubeID','Ano']).mean().reset_index().head(10)"
   ]
  },
  {
   "cell_type": "markdown",
   "metadata": {},
   "source": [
    "### GENERATING TABLES WITH ATHLETES"
   ]
  },
  {
   "cell_type": "code",
   "execution_count": null,
   "metadata": {},
   "outputs": [],
   "source": [
    "atletas_all_years = atletas_all_years.drop_duplicates(['ID'])"
   ]
  },
  {
   "cell_type": "code",
   "execution_count": null,
   "metadata": {},
   "outputs": [],
   "source": [
    "atletas_all_years.head()"
   ]
  },
  {
   "cell_type": "code",
   "execution_count": null,
   "metadata": {
    "scrolled": true
   },
   "outputs": [],
   "source": [
    "clubes_all_years.head()"
   ]
  },
  {
   "cell_type": "code",
   "execution_count": null,
   "metadata": {
    "scrolled": true
   },
   "outputs": [],
   "source": [
    "posicoes_all_years"
   ]
  },
  {
   "cell_type": "code",
   "execution_count": null,
   "metadata": {},
   "outputs": [],
   "source": [
    "atletas_all_years = atletas_all_years.merge(clubes_all_years[['ID','Abreviacao','Nome']], how='inner', left_on='ClubeID',\\\n",
    "                         right_on='ID')\n",
    "\n",
    "atletas_all_years = atletas_all_years.merge(posicoes_all_years[['ID','Abreviacao']], how='inner', left_on='PosicaoID',\\\n",
    "                         right_on='ID')\n",
    "\n",
    "atletas_all_years = atletas_all_years.drop(labels=['ID_y','ID'], axis = 1)"
   ]
  },
  {
   "cell_type": "code",
   "execution_count": null,
   "metadata": {},
   "outputs": [],
   "source": [
    "atletas_all_years = atletas_all_years.rename(columns={'ID_x':'ID_jogador','Nome':'nome_clube','Abreviacao_x':'abrev_clube',\\\n",
    "                                                     'Abreviacao_y':'posicao'})"
   ]
  },
  {
   "cell_type": "code",
   "execution_count": null,
   "metadata": {},
   "outputs": [],
   "source": [
    "atletas_all_years = atletas_all_years.drop_duplicates(['ID_jogador'])"
   ]
  },
  {
   "cell_type": "code",
   "execution_count": null,
   "metadata": {},
   "outputs": [],
   "source": [
    "atletas_all_years.head()"
   ]
  },
  {
   "cell_type": "code",
   "execution_count": null,
   "metadata": {
    "scrolled": true
   },
   "outputs": [],
   "source": [
    "atletas_all_years = atletas_all_years.drop_duplicates()"
   ]
  },
  {
   "cell_type": "code",
   "execution_count": null,
   "metadata": {},
   "outputs": [],
   "source": [
    "atletas_all_years.to_csv('atletas_all_years.csv', sep='\\t')"
   ]
  },
  {
   "cell_type": "code",
   "execution_count": null,
   "metadata": {
    "scrolled": true
   },
   "outputs": [],
   "source": [
    "scouts_all_years.head()"
   ]
  },
  {
   "cell_type": "markdown",
   "metadata": {},
   "source": [
    "### GERANDO PONTUAÇÃO DOS CLUBES RODADA A RODADA"
   ]
  },
  {
   "cell_type": "code",
   "execution_count": null,
   "metadata": {
    "scrolled": true
   },
   "outputs": [],
   "source": [
    "\n",
    "\n",
    "treinadores = atletas_all_years.ID_jogador[atletas_all_years.PosicaoID == 6]\n",
    "\n",
    "cols1 = ['Ano','Rodada', 'ClubeID', 'AtletaID', 'Participou', 'Pontos']\n",
    "tabela_cartola = scouts_all_years[scouts_all_years.AtletaID.isin(treinadores)][cols1]\n",
    "\n",
    "cols2 = ['Ano','Rodada', 'ClubeID', 'AtletaID', 'Participou', 'Pontos', 'Abreviacao']\n",
    "tabela_cartola = tabela_cartola.merge(clubes_all_years[['ID','Abreviacao','Nome']], how='inner', left_on='ClubeID',\\\n",
    "                         right_on='ID')[cols2]\n",
    "\n",
    "cols3 = ['Ano','Rodada', 'ClubeID', 'AtletaID', 'Apelido','Participou', 'Pontos', 'Abreviacao']\n",
    "tabela_cartola = tabela_cartola.merge(atletas_all_years[['ID_jogador','Apelido']], how='inner', left_on='AtletaID',\\\n",
    "                         right_on='ID_jogador')[cols3]\n",
    "\n",
    "tabela_cartola = tabela_cartola.sort_values(by=['Ano', 'ClubeID', 'Rodada'])\n",
    "\n",
    "tabela_cartola['Apelido'] = tabela_cartola.apply(lambda x: str(x.Apelido).lower(), axis=1)\n",
    "\n",
    "tabela_cartola = tabela_cartola.drop_duplicates()\n",
    "\n",
    "tabela_cartola"
   ]
  },
  {
   "cell_type": "code",
   "execution_count": null,
   "metadata": {
    "scrolled": true
   },
   "outputs": [],
   "source": [
    "tabela_quase_final = pd.DataFrame(tabela_cartola.groupby(['Ano','Abreviacao'])['Pontos'].mean())\n",
    "tabela_final = tabela_quase_final.reset_index().sort_values(by=['Ano','Pontos'], ascending = [True, False])\n",
    "tabela_final"
   ]
  },
  {
   "cell_type": "code",
   "execution_count": null,
   "metadata": {
    "scrolled": true
   },
   "outputs": [],
   "source": [
    "tabela"
   ]
  },
  {
   "cell_type": "code",
   "execution_count": null,
   "metadata": {
    "scrolled": true
   },
   "outputs": [],
   "source": [
    "cols_final = ['Ano', 'Abreviacao', 'pts_total', 'Pontos']\n",
    "tabela_unificada = tabela.merge(tabela_final, how = 'inner', left_on = ['Ano','abrev_clube_casa'], right_on=['Ano','Abreviacao'])[cols_final]\n",
    "tabela_unificada = tabela_unificada.rename(columns={'pts_total':'pts_real','Pontos':'pts_cartola'})\n",
    "tabela_unificada"
   ]
  },
  {
   "cell_type": "markdown",
   "metadata": {},
   "source": [
    "# Exploratory Data Analysis"
   ]
  },
  {
   "cell_type": "markdown",
   "metadata": {},
   "source": [
    "### Plot of ....."
   ]
  },
  {
   "cell_type": "code",
   "execution_count": null,
   "metadata": {},
   "outputs": [],
   "source": [
    "tabela_unificada[['pts_real','pts_cartola']][tabela_unificada.Ano==2014].plot()"
   ]
  },
  {
   "cell_type": "code",
   "execution_count": null,
   "metadata": {},
   "outputs": [],
   "source": [
    "atletas_all_years.info()"
   ]
  },
  {
   "cell_type": "code",
   "execution_count": null,
   "metadata": {},
   "outputs": [],
   "source": [
    "partidas_all_years.info()"
   ]
  },
  {
   "cell_type": "markdown",
   "metadata": {},
   "source": [
    "### Joint Distribution ClubeID x PosicaoID\n"
   ]
  },
  {
   "cell_type": "code",
   "execution_count": null,
   "metadata": {},
   "outputs": [],
   "source": [
    "atletas_all_years.head()"
   ]
  },
  {
   "cell_type": "code",
   "execution_count": null,
   "metadata": {
    "scrolled": true
   },
   "outputs": [],
   "source": [
    "sns.jointplot(x=\"ClubeID\", y=\"PosicaoID\", data=atletas_all_years[atletas_all_years.Ano == 2017], size=6, xlim=[250,400]);"
   ]
  },
  {
   "cell_type": "markdown",
   "metadata": {},
   "source": [
    "Here we plot the joint plot of ClubeID (teams) and PositionID (players positions in field)\n",
    "\n",
    "\n",
    "Notice that:\n",
    "\n",
    "* We have more players on \"MEIA\" position \n",
    "* The team with more players is the one with ClubeID nearest 260."
   ]
  },
  {
   "cell_type": "markdown",
   "metadata": {},
   "source": [
    "### Histogram (number of observations for each value on each columns) of Athletes_all_years table\n",
    "\n",
    "OBS: PosicaoID é a posição do jogador em campo (1 = zagueiro, 2 = lateral, ..., 5 = atacante, 6 = técnico)"
   ]
  },
  {
   "cell_type": "code",
   "execution_count": null,
   "metadata": {},
   "outputs": [],
   "source": [
    "atletas_all_years.head()"
   ]
  },
  {
   "cell_type": "code",
   "execution_count": null,
   "metadata": {},
   "outputs": [],
   "source": [
    "atletas_all_years.hist(figsize=(8, 8), bins=50, xlabelsize=8, ylabelsize=8);"
   ]
  },
  {
   "cell_type": "code",
   "execution_count": null,
   "metadata": {
    "scrolled": true
   },
   "outputs": [],
   "source": [
    "atletas_all_years.sample(10).sort_values(\"ID_jogador\")"
   ]
  },
  {
   "cell_type": "markdown",
   "metadata": {},
   "source": [
    "### Interactive Plots on TABLEAU\n",
    "\n",
    "* Number of Players,with positions, by year: [link](https://public.tableau.com/profile/renato.aranha#!/vizhome/qtd_jog_por_posicao/Planilha1)\n"
   ]
  }
 ],
 "metadata": {
  "anaconda-cloud": {},
  "kernelspec": {
   "display_name": "Python 3",
   "language": "python",
   "name": "python3"
  },
  "language_info": {
   "codemirror_mode": {
    "name": "ipython",
    "version": 3
   },
   "file_extension": ".py",
   "mimetype": "text/x-python",
   "name": "python",
   "nbconvert_exporter": "python",
   "pygments_lexer": "ipython3",
   "version": "3.5.2"
  }
 },
 "nbformat": 4,
 "nbformat_minor": 2
}
